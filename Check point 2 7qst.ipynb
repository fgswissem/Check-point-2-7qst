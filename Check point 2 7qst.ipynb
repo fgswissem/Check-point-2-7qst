{
 "cells": [
  {
   "cell_type": "markdown",
   "id": "5137351b",
   "metadata": {},
   "source": [
    "## Qst 1\n",
    "Write a program that will find all numbers which are divisible by 7 but are not a multiple of 5, between 2000 and 3200 (both included). The numbers obtained should be printed in a list.\n",
    "\n",
    "Hint: Consider using the range(#begin, #end) method.\n",
    " "
   ]
  },
  {
   "cell_type": "code",
   "execution_count": 9,
   "id": "86f3267b",
   "metadata": {},
   "outputs": [
    {
     "name": "stdout",
     "output_type": "stream",
     "text": [
      "[2002, 2009, 2016, 2023, 2037, 2044, 2051, 2058, 2072, 2079, 2086, 2093, 2107, 2114, 2121, 2128, 2142, 2149, 2156, 2163, 2177, 2184, 2191, 2198, 2212, 2219, 2226, 2233, 2247, 2254, 2261, 2268, 2282, 2289, 2296, 2303, 2317, 2324, 2331, 2338, 2352, 2359, 2366, 2373, 2387, 2394, 2401, 2408, 2422, 2429, 2436, 2443, 2457, 2464, 2471, 2478, 2492, 2499, 2506, 2513, 2527, 2534, 2541, 2548, 2562, 2569, 2576, 2583, 2597, 2604, 2611, 2618, 2632, 2639, 2646, 2653, 2667, 2674, 2681, 2688, 2702, 2709, 2716, 2723, 2737, 2744, 2751, 2758, 2772, 2779, 2786, 2793, 2807, 2814, 2821, 2828, 2842, 2849, 2856, 2863, 2877, 2884, 2891, 2898, 2912, 2919, 2926, 2933, 2947, 2954, 2961, 2968, 2982, 2989, 2996, 3003, 3017, 3024, 3031, 3038, 3052, 3059, 3066, 3073, 3087, 3094, 3101, 3108, 3122, 3129, 3136, 3143, 3157, 3164, 3171, 3178, 3192, 3199]\n"
     ]
    }
   ],
   "source": [
    "numbers=[]\n",
    "for i in range (2000,3200):\n",
    "    if i%7==0 and i%5!=0:\n",
    "        numbers.append(i)\n",
    "print(numbers)"
   ]
  },
  {
   "cell_type": "markdown",
   "id": "6601f813",
   "metadata": {},
   "source": [
    "## Qst 2\n",
    " Write a program that can compute the factorial of a given number. (The factorial of n is the product of all positive integers less than or equal to n.) For example: For factorial(5)= 5 x 4 x 3 x 2 x 1 the result is 120 (i.e. factorial (0)=1)."
   ]
  },
  {
   "cell_type": "code",
   "execution_count": 12,
   "id": "dd522e2e",
   "metadata": {},
   "outputs": [
    {
     "name": "stdout",
     "output_type": "stream",
     "text": [
      "donner un nombre:5\n",
      "120\n"
     ]
    }
   ],
   "source": [
    "n = int(input(\"donner un nombre:\"))\n",
    "def fact(n):\n",
    "    resultat=1\n",
    "    for i in range (2,n+1):\n",
    "        resultat=resultat*i\n",
    "    return resultat\n",
    "resultat=fact(n)\n",
    "print(resultat)"
   ]
  },
  {
   "cell_type": "markdown",
   "id": "c2bc74de",
   "metadata": {},
   "source": [
    "## Qst 3\n",
    "With a given integer number n, write a program to generate a dictionary that contains (i, i*i) such that is an integral number between 1 and n (both included). Then, the program should print the dictionary. Suppose the following input is supplied to the program: 8 Then, the output should be: {1: 1, 2: 4, 3: 9, 4: 16, 5: 25, 6: 36, 7: 49, 8: 64} "
   ]
  },
  {
   "cell_type": "code",
   "execution_count": 21,
   "id": "4a5ae415",
   "metadata": {},
   "outputs": [
    {
     "name": "stdout",
     "output_type": "stream",
     "text": [
      "donner un nombre:8\n",
      "{1: 1, 2: 4, 3: 9, 4: 16, 5: 25, 6: 36, 7: 49, 8: 64}\n"
     ]
    }
   ],
   "source": [
    "dictionnaire={}\n",
    "n = int(input(\"donner un nombre:\"))\n",
    "for i in range (1,n+1):\n",
    "    dictionnaire[i]=i*i\n",
    "print(dictionnaire)"
   ]
  },
  {
   "cell_type": "markdown",
   "id": "32e5b100",
   "metadata": {},
   "source": [
    "## Qst 4\n",
    "Given a non-empty string and an integral n, return a new string where the char at index n has been removed. The value of n will be a valid index of a char in the original string (i.e. n will be in the range 0..len(str)-1 inclusive). \n",
    "\n",
    "missing_char('kitten', 1) → 'ktten'    for example here we remove \"i\" which is located in the index 1\n",
    "\n",
    "missing_char('kitten', 0) → 'itten'   here we remove \"k\" which is in the index 0\n",
    "\n",
    "missing_char('kitten', 4) → 'kittn'   here we remove \"e\" which is in the index 4"
   ]
  },
  {
   "cell_type": "code",
   "execution_count": 58,
   "id": "5bc91223",
   "metadata": {},
   "outputs": [
    {
     "name": "stdout",
     "output_type": "stream",
     "text": [
      "Ktten\n",
      "itten\n",
      "Kittn\n"
     ]
    }
   ],
   "source": [
    "def missing_char(str,n):\n",
    "    first_part = str [:n]\n",
    "    last_part = str [n+1 :]\n",
    "    return first_part + last_part\n",
    "print(missing_char('Kitten',1))\n",
    "print(missing_char('Kitten',0))\n",
    "print(missing_char('Kitten',4))"
   ]
  },
  {
   "cell_type": "markdown",
   "id": "5c02bdf3",
   "metadata": {},
   "source": [
    "## Qst 5\n",
    "Write a NumPy program to convert a NumPy array into a Python list structure.\n",
    "\n",
    "Expected output: \n",
    "\n",
    "Original array elements: [[0 1] [2 3] [4 5]] \n",
    "\n",
    "Array to list: [[0, 1], [2, 3], [4, 5]] "
   ]
  },
  {
   "cell_type": "code",
   "execution_count": 53,
   "id": "e0ac6fda",
   "metadata": {},
   "outputs": [],
   "source": [
    "import numpy as np"
   ]
  },
  {
   "cell_type": "code",
   "execution_count": 54,
   "id": "3271ead2",
   "metadata": {},
   "outputs": [
    {
     "name": "stdout",
     "output_type": "stream",
     "text": [
      "Original array elements:\n",
      "[[0 1]\n",
      " [2 3]\n",
      " [4 5]]\n",
      "Array to list:\n",
      "[[0, 1], [2, 3], [4, 5]]\n"
     ]
    }
   ],
   "source": [
    "x= np.arange(6).reshape(3, 2)\n",
    "print(\"Original array elements:\")\n",
    "print(x)\n",
    "print(\"Array to list:\")\n",
    "print(x.tolist())"
   ]
  },
  {
   "cell_type": "markdown",
   "id": "26aaf062",
   "metadata": {},
   "source": [
    "## Qst 6\n",
    "Write a NumPy program to compute the covariance matrix of two given arrays. \n",
    "\n",
    "Original array1: [0 1 2] \n",
    "\n",
    "Original array2: [2 1 0] \n",
    "\n",
    "Covariance matrix of the said arrays: [[ 1. -1.] [-1. 1.]]\n",
    " \n",
    "\n",
    "Hint: We can use the np.cov() function to calculate the covariance between these two arrays"
   ]
  },
  {
   "cell_type": "code",
   "execution_count": 55,
   "id": "0a3dc6ff",
   "metadata": {},
   "outputs": [
    {
     "name": "stdout",
     "output_type": "stream",
     "text": [
      "\n",
      "Original array1:\n",
      "[0 1 2]\n",
      "\n",
      "Original array2:\n",
      "[2 1 0]\n",
      "\n",
      "Covariance matrix of the said arrays:\n",
      " [[ 1. -1.]\n",
      " [-1.  1.]]\n"
     ]
    }
   ],
   "source": [
    "x = np.array([0, 1, 2])\n",
    "y = np.array([2, 1, 0])\n",
    "print(\"\\nOriginal array1:\")\n",
    "print(x)\n",
    "print(\"\\nOriginal array2:\")\n",
    "print(y)\n",
    "print(\"\\nCovariance matrix of the said arrays:\\n\",np.cov(x, y))"
   ]
  },
  {
   "cell_type": "code",
   "execution_count": null,
   "id": "6ed46125",
   "metadata": {},
   "outputs": [],
   "source": []
  }
 ],
 "metadata": {
  "kernelspec": {
   "display_name": "Python 3 (ipykernel)",
   "language": "python",
   "name": "python3"
  },
  "language_info": {
   "codemirror_mode": {
    "name": "ipython",
    "version": 3
   },
   "file_extension": ".py",
   "mimetype": "text/x-python",
   "name": "python",
   "nbconvert_exporter": "python",
   "pygments_lexer": "ipython3",
   "version": "3.9.7"
  }
 },
 "nbformat": 4,
 "nbformat_minor": 5
}
